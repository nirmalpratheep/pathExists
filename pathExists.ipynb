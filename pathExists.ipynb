{
 "cells": [
  {
   "cell_type": "code",
   "execution_count": 4,
   "id": "e73e8d54",
   "metadata": {},
   "outputs": [
    {
     "name": "stdout",
     "output_type": "stream",
     "text": [
      "Image : polygons.png, StartPoint : (96, 86), EndPoint : (92, 12)\n",
      "polygons.png\n"
     ]
    },
    {
     "data": {
      "image/png": "[encoded data removed]",
      "text/plain": [
       "<Figure size 640x480 with 1 Axes>"
      ]
     },
     "metadata": {},
     "output_type": "display_data"
    },
    {
     "name": "stdout",
     "output_type": "stream",
     "text": [
      "Image : bars.png, StartPoint : (10, 2), EndPoint : (5, 8)\n",
      "bars.png\n"
     ]
    },
    {
     "data": {
      "image/png": "[encoded data removed]",
      "text/plain": [
       "<Figure size 640x480 with 1 Axes>"
      ]
     },
     "metadata": {},
     "output_type": "display_data"
    },
    {
     "name": "stdout",
     "output_type": "stream",
     "text": [
      "Image : small-ring.png, StartPoint : (0, 0), EndPoint : (0, 4)\n",
      "small-ring.png\n"
     ]
    },
    {
     "data": {
      "image/png": "[encoded data removed]",
      "text/plain": [
       "<Figure size 640x480 with 1 Axes>"
      ]
     },
     "metadata": {},
     "output_type": "display_data"
    }
   ],
   "source": [
    "import heapq\n",
    "import numpy as np\n",
    "import matplotlib.pyplot as plt\n",
    "from imageio import imread, imwrite\n",
    "from IPython.display import clear_output\n",
    "from PIL import Image\n",
    "import random\n",
    "\n",
    "def readImage(imagePath):\n",
    "    \"\"\"\n",
    "    Reads an image from the specified path and converts it to a numpy array.\n",
    "    :param imagePath: Path to the image file.\n",
    "    :return: Numpy array representation of the image.\n",
    "    \"\"\"\n",
    "    image = Image.open(imagePath)  \n",
    "    numpy_array = np.array(image)\n",
    "    return numpy_array.astype(np.uint8)\n",
    "\n",
    "\n",
    "def writeImage(img, path):\n",
    "    imwrite(path, img.astype(np.uint8))\n",
    "\n",
    "def heuristic(a, b):\n",
    "    return abs(a[0] - b[0]) + abs(a[1] - b[1])  # Manhattan\n",
    "\n",
    "def findPath_astar(startPos, endPos, grid, visualize=False, viz_rate=200):\n",
    "    rows, cols = grid.shape\n",
    "    visited = np.zeros((rows, cols), dtype=bool)\n",
    "    came_from = {}\n",
    "    g_score = np.full((rows, cols), np.inf, dtype=np.float32)\n",
    "    #print (g_score)\n",
    "    g_score[startPos] = 0\n",
    "\n",
    "    f_start = heuristic(startPos, endPos)\n",
    "    open_set = [(f_start, startPos)]\n",
    "\n",
    "    if visualize:\n",
    "        plt.ion()\n",
    "        fig, ax = plt.subplots()\n",
    "        steps = 0\n",
    "\n",
    "    while open_set:\n",
    "        f, current = heapq.heappop(open_set)\n",
    "        if current == endPos:\n",
    "            return reconstruct_path(came_from, endPos)\n",
    "\n",
    "        cx, cy = current\n",
    "        if visited[cx, cy]:\n",
    "            continue\n",
    "        visited[cx, cy] = True\n",
    "\n",
    "        for dx, dy in [(-1,0),(1,0),(0,-1),(0,1)]:\n",
    "            nx, ny = cx + dx, cy + dy\n",
    "            if not (0 <= nx < rows and 0 <= ny < cols):\n",
    "                continue\n",
    "            if grid[nx, ny] != 0 or visited[nx, ny]:\n",
    "                continue\n",
    "\n",
    "            tentative_g = g_score[cx, cy] + 1\n",
    "            if tentative_g < g_score[nx, ny]:\n",
    "                g_score[nx, ny] = tentative_g\n",
    "                f_score = tentative_g + heuristic((nx, ny), endPos)\n",
    "                came_from[(nx, ny)] = (cx, cy)\n",
    "                heapq.heappush(open_set, (f_score, (nx, ny)))\n",
    "\n",
    "                if visualize:\n",
    "                    steps += 1\n",
    "                    if steps % viz_rate == 0:\n",
    "                        grid[nx, ny] = 100\n",
    "                        clear_output(wait=True)\n",
    "                        ax.clear()\n",
    "                        ax.imshow(grid, cmap='gray')\n",
    "                        plt.title(f\"Exploring... {steps} steps\")\n",
    "                        plt.draw()\n",
    "                        plt.pause(0.001)\n",
    "\n",
    "    return None  # No path found\n",
    "\n",
    "def reconstruct_path(came_from, endPos):\n",
    "    cur = endPos\n",
    "    path = []\n",
    "    while cur in came_from:\n",
    "        path.append(cur)\n",
    "        cur = came_from[cur]\n",
    "    path.append(cur)\n",
    "    return path[::-1]\n",
    "\n",
    "def colorPath(path, grid, val=200):\n",
    "    for x, y in path:\n",
    "        grid[x, y] = val\n",
    "    return grid\n",
    "\n",
    "def pathExists(startPos,endPos,imgPath,visualize):\n",
    "    # Example usage\n",
    "    img = readImage(imgPath)\n",
    "    path = findPath_astar(startPos, endPos, img, visualize=False)\n",
    "    if path:\n",
    "        img_colored = colorPath(path, img)\n",
    "        print (imgPath)\n",
    "        writeImage(img_colored, imgPath.replace(\".png\", \"_path.png\"))\n",
    "        plt.imshow(img_colored, cmap='gray')\n",
    "        plt.title(\"Optimized A* Path\")\n",
    "        plt.axis('off')\n",
    "        plt.show()\n",
    "    else:\n",
    "        print(\"No path found.\")\n",
    "\n",
    "fileList = [\"polygons.png\",\"bars.png\",\"small-ring.png\"]\n",
    "for i in range(3):\n",
    "    file = fileList[i]\n",
    "    img = readImage(file)\n",
    "    rows, cols = img.shape\n",
    "    startPoint = (random.randint(0, rows-1), random.randint(0, cols-1))\n",
    "    endPoint = (random.randint(0, rows-1), random.randint(0, cols-1))\n",
    "    while img[startPoint] != 0:\n",
    "        startPoint = (random.randint(0, rows-1), random.randint(0, cols-1))\n",
    "    while img[endPoint] != 0:\n",
    "        endPoint = (random.randint(0, rows-1), random.randint(0, cols-1))\n",
    "    print(\"Image : {file}, StartPoint : {startPoint}, EndPoint : {endPoint}\".format(file=file, startPoint=startPoint, endPoint=endPoint))\n",
    "    pathExists(startPoint, endPoint, file, visualize=True)"
   ]
  },
  {
   "cell_type": "code",
   "execution_count": null,
   "id": "88d5a8d5",
   "metadata": {},
   "outputs": [],
   "source": []
  }
 ],
 "metadata": {
  "kernelspec": {
   "display_name": "llm",
   "language": "python",
   "name": "python3"
  },
  "language_info": {
   "codemirror_mode": {
    "name": "ipython",
    "version": 3
   },
   "file_extension": ".py",
   "mimetype": "text/x-python",
   "name": "python",
   "nbconvert_exporter": "python",
   "pygments_lexer": "ipython3",
   "version": "3.12.3"
  }
 },
 "nbformat": 4,
 "nbformat_minor": 5
}
