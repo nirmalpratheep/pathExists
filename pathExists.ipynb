{
 "cells": [
  {
   "cell_type": "code",
   "execution_count": null,
   "id": "e73e8d54",
   "metadata": {},
   "outputs": [
    {
     "name": "stdout",
     "output_type": "stream",
     "text": [
      "Image : polygons.png, StartPoint : (19, 59), EndPoint : (52, 44)\n",
      "polygons.png\n"
     ]
    },
    {
     "data": {
      "image/png": "[encoded data removed]",
      "text/plain": [
       "<Figure size 640x480 with 1 Axes>"
      ]
     },
     "metadata": {},
     "output_type": "display_data"
    },
    {
     "name": "stdout",
     "output_type": "stream",
     "text": [
      "Image : bars.png, StartPoint : (7, 8), EndPoint : (3, 2)\n",
      "bars.png\n"
     ]
    },
    {
     "data": {
      "image/png": "[encoded data removed]",
      "text/plain": [
       "<Figure size 640x480 with 1 Axes>"
      ]
     },
     "metadata": {},
     "output_type": "display_data"
    },
    {
     "name": "stdout",
     "output_type": "stream",
     "text": [
      "Image : small-ring.png, StartPoint : (4, 3), EndPoint : (3, 4)\n",
      "small-ring.png\n"
     ]
    },
    {
     "data": {
      "image/png": "[encoded data removed]",
      "text/plain": [
       "<Figure size 640x480 with 1 Axes>"
      ]
     },
     "metadata": {},
     "output_type": "display_data"
    }
   ],
   "source": [
    "import heapq\n",
    "import numpy as np\n",
    "import matplotlib.pyplot as plt\n",
    "from imageio import imread, imwrite\n",
    "from IPython.display import clear_output\n",
    "from PIL import Image\n",
    "import random\n",
    "\n",
    "def readImage(imagePath):\n",
    "    \"\"\"\n",
    "    Reads an image from the specified path and converts it to a numpy array.\n",
    "    :param imagePath: Path to the image file.\n",
    "    :return: Numpy array representation of the image.\n",
    "    \"\"\"\n",
    "    image = Image.open(imagePath)  \n",
    "    numpy_array = np.array(image)\n",
    "    return numpy_array.astype(np.uint8)\n",
    "\n",
    "\n",
    "def writeImage(img, path):\n",
    "    imwrite(path, img.astype(np.uint8))\n",
    "\n",
    "def heuristic(a, b):\n",
    "    return abs(a[0] - b[0]) + abs(a[1] - b[1])  # Manhattan\n",
    "\n",
    "def findPath_astar(startPos, endPos, grid, visualize=False, viz_rate=200):\n",
    "    rows, cols = grid.shape\n",
    "    visited = np.zeros((rows, cols), dtype=bool)\n",
    "    came_from = {}\n",
    "    g_score = np.full((rows, cols), np.inf, dtype=np.float32)\n",
    "    #print (g_score)\n",
    "    g_score[startPos] = 0\n",
    "\n",
    "    f_start = heuristic(startPos, endPos)\n",
    "    open_set = [(f_start, startPos)]\n",
    "\n",
    "    if visualize:\n",
    "        plt.ion()\n",
    "        fig, ax = plt.subplots()\n",
    "        steps = 0\n",
    "\n",
    "    while open_set:\n",
    "        f, current = heapq.heappop(open_set)\n",
    "        if current == endPos:\n",
    "            return reconstruct_path(came_from, endPos)\n",
    "\n",
    "        cx, cy = current\n",
    "        if visited[cx, cy]:\n",
    "            continue\n",
    "        visited[cx, cy] = True\n",
    "\n",
    "        for dx, dy in [(-1,0),(1,0),(0,-1),(0,1)]:\n",
    "            nx, ny = cx + dx, cy + dy\n",
    "            if not (0 <= nx < rows and 0 <= ny < cols):\n",
    "                continue\n",
    "            if grid[nx, ny] != 0 or visited[nx, ny]:\n",
    "                continue\n",
    "\n",
    "            tentative_g = g_score[cx, cy] + 1\n",
    "            if tentative_g < g_score[nx, ny]:\n",
    "                g_score[nx, ny] = tentative_g\n",
    "                f_score = tentative_g + heuristic((nx, ny), endPos)\n",
    "                came_from[(nx, ny)] = (cx, cy)\n",
    "                heapq.heappush(open_set, (f_score, (nx, ny)))\n",
    "\n",
    "                if visualize:\n",
    "                    steps += 1\n",
    "                    if steps % viz_rate == 0:\n",
    "                        grid[nx, ny] = 100\n",
    "                        clear_output(wait=True)\n",
    "                        ax.clear()\n",
    "                        ax.imshow(grid, cmap='gray')\n",
    "                        plt.title(f\"Exploring... {steps} steps\")\n",
    "                        plt.draw()\n",
    "                        plt.pause(0.001)\n",
    "\n",
    "    return None  # No path found\n",
    "\n",
    "def reconstruct_path(came_from, endPos):\n",
    "    cur = endPos\n",
    "    path = []\n",
    "    while cur in came_from:\n",
    "        path.append(cur)\n",
    "        cur = came_from[cur]\n",
    "    path.append(cur)\n",
    "    return path[::-1]\n",
    "\n",
    "def colorPath(path, grid, val=100):\n",
    "    for x, y in path:\n",
    "        grid[x, y] = val\n",
    "    return grid\n",
    "\n",
    "def pathExists(startPos,endPos,imgPath,visualize):\n",
    "    # Example usage\n",
    "    img = readImage(imgPath)\n",
    "    path = findPath_astar(startPos, endPos, img, visualize=False)\n",
    "    if path:\n",
    "        img_colored = colorPath(path, img)\n",
    "        print (imgPath)\n",
    "        writeImage(img_colored, imgPath.replace(\".png\", \"_path.png\"))\n",
    "        plt.imshow(img_colored, cmap='gray')\n",
    "        plt.title(\"Optimized A* Path\")\n",
    "        plt.axis('off')\n",
    "        plt.show()\n",
    "    else:\n",
    "        print(\"No path found.\")\n",
    "\n",
    "fileList = [\"polygons.png\",\"bars.png\",\"small-ring.png\"]\n",
    "for i in range(3):\n",
    "    file = fileList[i]\n",
    "    img = readImage(file)\n",
    "    rows, cols = img.shape\n",
    "    startPoint = (random.randint(0, rows-1), random.randint(0, cols-1))\n",
    "    endPoint = (random.randint(0, rows-1), random.randint(0, cols-1))\n",
    "\n",
    "    while img[startPoint] != 0:\n",
    "        startPoint = (random.randint(0, rows-1), random.randint(0, cols-1))\n",
    "    while img[endPoint] != 0:\n",
    "        endPoint = (random.randint(0, rows-1), random.randint(0, cols-1))\n",
    "    print(\"Image : {file}, StartPoint : {startPoint}, EndPoint : {endPoint}\".format(file=file, startPoint=startPoint, endPoint=endPoint))\n",
    "    pathExists(startPoint, endPoint, file, visualize=True)"
   ]
  },
  {
   "cell_type": "code",
   "execution_count": 50,
   "id": "a10f849b",
   "metadata": {},
   "outputs": [],
   "source": [
    "def multiPathExists(startPosList, endPosList, imgPath, visualize):\n",
    "    # Example usage\n",
    "    img = readImage(imgPath)\n",
    "    for i in range(len(startPosList)):\n",
    "        path = findPath_astar(startPosList[i], endPosList[i], img, visualize=False)\n",
    "        if path:\n",
    "            img = colorPath(path, img, val=(100 + i * 40)%256)  # Different color for each path \n",
    "            print(f\"Path {i+1} found from {startPosList[i]} to {endPosList[i]}\")    \n",
    "        else:\n",
    "            print(\"No path found.\")\n",
    "    writeImage(img, imgPath.replace(\".png\", \"_path.png\"))\n",
    "    plt.imshow(img, cmap='gray')\n",
    "    plt.title(\"Optimized A* Path\")\n",
    "    plt.axis('off')\n",
    "    plt.show()\n",
    "fileList = [\"polygons.png\",\"bars.png\",\"small-ring.png\"]"
   ]
  },
  {
   "cell_type": "code",
   "execution_count": 53,
   "id": "9e831557",
   "metadata": {},
   "outputs": [
    {
     "name": "stdout",
     "output_type": "stream",
     "text": [
      "Image : polygons.png, StartPoint1 : (95, 71), EndPoint1 : (79, 61)\n",
      "Image : polygons.png, StartPoint2 : (79, 50), EndPoint2 : (45, 13)\n",
      "Path 1 found from (95, 71) to (79, 61)\n",
      "Path 2 found from (79, 50) to (45, 13)\n"
     ]
    },
    {
     "data": {
      "image/png": "[encoded data removed]",
      "text/plain": [
       "<Figure size 640x480 with 1 Axes>"
      ]
     },
     "metadata": {},
     "output_type": "display_data"
    }
   ],
   "source": [
    "fileList = [\"polygons.png\",\"bars.png\",\"small-ring.png\"]\n",
    "for i in range(1):\n",
    "    file = fileList[i]\n",
    "    img = readImage(file)\n",
    "    rows, cols = img.shape\n",
    "    startPoint1 = (random.randint(0, rows-1), random.randint(0, cols-1))\n",
    "    endPoint1 = (random.randint(0, rows-1), random.randint(0, cols-1))\n",
    "    while img[startPoint1] != 0:\n",
    "        startPoint1 = (random.randint(0, rows-1), random.randint(0, cols-1))\n",
    "    while img[endPoint1] != 0:\n",
    "        endPoint1 = (random.randint(0, rows-1), random.randint(0, cols-1))\n",
    "    startPoint2 = (random.randint(0, rows-1), random.randint(0, cols-1))\n",
    "    endPoint2 = (random.randint(0, rows-1), random.randint(0, cols-1))\n",
    "    while img[startPoint2] != 0:\n",
    "        startPoint2 = (random.randint(0, rows-1), random.randint(0, cols-1))\n",
    "    while img[endPoint2] != 0:\n",
    "        endPoint2 = (random.randint(0, rows-1), random.randint(0, cols-1))\n",
    "\n",
    "    \n",
    "    startPoints = [] \n",
    "    startPoints.append(startPoint1)\n",
    "    startPoints.append(startPoint2)\n",
    "    endPoints = []\n",
    "    endPoints.append(endPoint1)\n",
    "    endPoints.append(endPoint2)\n",
    "\n",
    "\n",
    "    print(\"Image : {file}, StartPoint1 : {startPoint1}, EndPoint1 : {endPoint1}\".format(file=file, startPoint1=startPoint1, endPoint1=endPoint1))\n",
    "    print(\"Image : {file}, StartPoint2 : {startPoint2}, EndPoint2 : {endPoint2}\".format(file=file, startPoint2=startPoint2, endPoint2=endPoint2))   \n",
    "    multiPathExists(startPoints,endPoints,file, visualize=True)\n",
    "    "
   ]
  },
  {
   "cell_type": "code",
   "execution_count": null,
   "id": "cac22d59",
   "metadata": {},
   "outputs": [],
   "source": []
  },
  {
   "cell_type": "code",
   "execution_count": null,
   "id": "ed16d1aa",
   "metadata": {},
   "outputs": [],
   "source": []
  }
 ],
 "metadata": {
  "kernelspec": {
   "display_name": "llm",
   "language": "python",
   "name": "python3"
  },
  "language_info": {
   "codemirror_mode": {
    "name": "ipython",
    "version": 3
   },
   "file_extension": ".py",
   "mimetype": "text/x-python",
   "name": "python",
   "nbconvert_exporter": "python",
   "pygments_lexer": "ipython3",
   "version": "3.12.3"
  }
 },
 "nbformat": 4,
 "nbformat_minor": 5
}
