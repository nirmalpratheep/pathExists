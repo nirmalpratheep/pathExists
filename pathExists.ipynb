{
 "cells": [
  {
   "cell_type": "code",
   "execution_count": null,
   "id": "e73e8d54",
   "metadata": {},
   "outputs": [
    {
     "name": "stdout",
     "output_type": "stream",
     "text": [
      "Image : polygons.png, StartPoint : (39, 6), EndPoint : (97, 12)\n",
      "polygons.png\n"
     ]
    },
    {
     "data": {
      "image/png": "[encoded data removed]",
      "text/plain": [
       "<Figure size 640x480 with 1 Axes>"
      ]
     },
     "metadata": {},
     "output_type": "display_data"
    },
    {
     "name": "stdout",
     "output_type": "stream",
     "text": [
      "Image : bars.png, StartPoint : (8, 4), EndPoint : (9, 6)\n",
      "bars.png\n"
     ]
    },
    {
     "data": {
      "image/png": "[encoded data removed]",
      "text/plain": [
       "<Figure size 640x480 with 1 Axes>"
      ]
     },
     "metadata": {},
     "output_type": "display_data"
    },
    {
     "name": "stdout",
     "output_type": "stream",
     "text": [
      "Image : small-ring.png, StartPoint : (3, 4), EndPoint : (1, 0)\n",
      "small-ring.png\n"
     ]
    },
    {
     "data": {
      "image/png": "[encoded data removed]",
      "text/plain": [
       "<Figure size 640x480 with 1 Axes>"
      ]
     },
     "metadata": {},
     "output_type": "display_data"
    }
   ],
   "source": [
    "import heapq\n",
    "import numpy as np\n",
    "import matplotlib.pyplot as plt\n",
    "from imageio import imread, imwrite\n",
    "from IPython.display import clear_output\n",
    "from PIL import Image\n",
    "import random\n",
    "\n",
    "def readImage(imagePath):\n",
    "    \"\"\"\n",
    "    Reads an image from the specified path and converts it to a numpy array.\n",
    "    :param imagePath: Path to the image file.\n",
    "    :return: Numpy array representation of the image.\n",
    "    \"\"\"\n",
    "    image = Image.open(imagePath)  \n",
    "    numpy_array = np.array(image)\n",
    "    return numpy_array.astype(np.uint8)\n",
    "\n",
    "\n",
    "def writeImage(img, path):\n",
    "    imwrite(path, img.astype(np.uint8))\n",
    "\n",
    "def heuristic(a, b):\n",
    "    return abs(a[0] - b[0]) + abs(a[1] - b[1])  # Manhattan\n",
    "\n",
    "def findPath_astar(startPos, endPos, grid):\n",
    "    # Description: A* pathfinding algorithm implementation.\n",
    "    # Input: startPos (tuple), endPos (tuple), grid (numpy array)\n",
    "    # Output: List of tuples representing the path from startPos to endPos.\n",
    "\n",
    "    rows, cols = grid.shape\n",
    "    visited = np.zeros((rows, cols), dtype=bool)\n",
    "    came_from = {}\n",
    "    g_score = np.full((rows, cols), np.inf, dtype=np.float32)\n",
    "    #print (g_score)\n",
    "    g_score[startPos] = 0\n",
    "\n",
    "    f_start = heuristic(startPos, endPos)\n",
    "    open_set = [(f_start, startPos)]\n",
    "\n",
    "    while open_set:\n",
    "        f, current = heapq.heappop(open_set)\n",
    "        if current == endPos:\n",
    "            return reconstruct_path(came_from, endPos)\n",
    "\n",
    "        cx, cy = current\n",
    "        if visited[cx, cy]:\n",
    "            continue\n",
    "        visited[cx, cy] = True\n",
    "\n",
    "        for dx, dy in [(-1,0),(1,0),(0,-1),(0,1)]:\n",
    "            nx, ny = cx + dx, cy + dy\n",
    "            if not (0 <= nx < rows and 0 <= ny < cols):\n",
    "                continue\n",
    "            if grid[nx, ny] != 0 or visited[nx, ny]:\n",
    "                continue\n",
    "\n",
    "            tentative_g = g_score[cx, cy] + 1\n",
    "            if tentative_g < g_score[nx, ny]:\n",
    "                g_score[nx, ny] = tentative_g\n",
    "                f_score = tentative_g + heuristic((nx, ny), endPos)\n",
    "                came_from[(nx, ny)] = (cx, cy)\n",
    "                heapq.heappush(open_set, (f_score, (nx, ny)))\n",
    "\n",
    "\n",
    "    return None  # No path found\n",
    "\n",
    "def reconstruct_path(came_from, endPos):\n",
    "    # Description: Reconstructs the path from the end position to the start position.\n",
    "    # Input: came_from (dict), endPos (tuple)\n",
    "    # Output: List of tuples representing the path from startPos to endPos.\n",
    "\n",
    "    cur = endPos\n",
    "    path = []\n",
    "    while cur in came_from:\n",
    "        path.append(cur)\n",
    "        cur = came_from[cur]\n",
    "    path.append(cur)\n",
    "    return path[::-1]\n",
    "\n",
    "def colorPath(path, grid, val=100):\n",
    "    # Description: Colors the path in the grid with the specified value.\n",
    "    # Input: path (list of tuples), grid (numpy array), val (int)\n",
    "    # Output: Numpy array with the path colored.\n",
    "    \n",
    "    for x, y in path:\n",
    "        grid[x, y] = val\n",
    "    return grid\n",
    "\n",
    "def pathExists(startPos,endPos,imgPath,visualize=False):\n",
    "    \"\"\"\n",
    "    Check if a path exists between startPos and endPos in the image at imgPath.\n",
    "    If a path exists, color it in the image and save the result.\n",
    "    :param startPos: Starting position (x, y) in the image.\n",
    "    :param endPos: Ending position (x, y) in the image.\n",
    "    :param imgPath: Path to the image file.\n",
    "    :param visualize: If True, display the image with the path.\n",
    "    \"\"\"\n",
    "\n",
    "    # Example usage\n",
    "    img = readImage(imgPath)\n",
    "    path = findPath_astar(startPos, endPos, img)\n",
    "    if path:\n",
    "        img_colored = colorPath(path, img)\n",
    "        print (imgPath)\n",
    "        writeImage(img_colored, imgPath.replace(\".png\", \"_path.png\"))\n",
    "        if visualize:\n",
    "            plt.imshow(img_colored, cmap='gray')\n",
    "            plt.title(\"Optimized A* Path\")\n",
    "            plt.axis('off')\n",
    "            plt.show()\n",
    "    else:\n",
    "        print(\"No path found.\")\n",
    "\n",
    "fileList = [\"polygons.png\",\"bars.png\",\"small-ring.png\"]\n",
    "for i in range(3):\n",
    "    file = fileList[i]\n",
    "    img = readImage(file)\n",
    "    rows, cols = img.shape\n",
    "    startPoint = (random.randint(0, rows-1), random.randint(0, cols-1))\n",
    "    endPoint = (random.randint(0, rows-1), random.randint(0, cols-1))\n",
    "\n",
    "    while img[startPoint] != 0:\n",
    "        startPoint = (random.randint(0, rows-1), random.randint(0, cols-1))\n",
    "    while img[endPoint] != 0:\n",
    "        endPoint = (random.randint(0, rows-1), random.randint(0, cols-1))\n",
    "    print(\"Image : {file}, StartPoint : {startPoint}, EndPoint : {endPoint}\".format(file=file, startPoint=startPoint, endPoint=endPoint))\n",
    "    pathExists(startPoint, endPoint, file,visualize=True)"
   ]
  },
  {
   "cell_type": "code",
   "execution_count": null,
   "id": "a10f849b",
   "metadata": {},
   "outputs": [],
   "source": [
    "def multiPathExists(startPosList, endPosList, imgPath, visualize):\n",
    "    # Description: Check if multiple paths exist between startPosList and endPosList in the image at imgPath.\n",
    "    # If paths exist, color them in the image and save the result.\n",
    "    # Input: startPosList (list of tuples), endPosList (list of tuples), imgPath (str), visualize (bool)\n",
    "    # Output: None\n",
    "    \n",
    "    img = readImage(imgPath)\n",
    "    for i in range(len(startPosList)):\n",
    "        path = findPath_astar(startPosList[i], endPosList[i], img)\n",
    "        if path:\n",
    "            img = colorPath(path, img, val=(100 + i * 50)%256)  # Different color for each path \n",
    "            print(f\"Path {i+1} found from {startPosList[i]} to {endPosList[i]}\")    \n",
    "        else:\n",
    "            print(\"No path found.\")\n",
    "    writeImage(img, imgPath.replace(\".png\", \"_path.png\"))\n",
    "    if visualize:\n",
    "        plt.imshow(img, cmap='gray')\n",
    "        plt.title(\"Optimized A* Path\")\n",
    "        plt.axis('off')\n",
    "        plt.show()\n"
   ]
  },
  {
   "cell_type": "code",
   "execution_count": 70,
   "id": "9e831557",
   "metadata": {},
   "outputs": [
    {
     "name": "stdout",
     "output_type": "stream",
     "text": [
      "Image : polygons.png, StartPoint1 : (88, 39), EndPoint1 : (29, 65)\n",
      "Image : polygons.png, StartPoint2 : (4, 48), EndPoint2 : (31, 38)\n",
      "Path 1 found from (88, 39) to (29, 65)\n",
      "Path 2 found from (4, 48) to (31, 38)\n"
     ]
    },
    {
     "data": {
      "image/png": "[encoded data removed]",
      "text/plain": [
       "<Figure size 640x480 with 1 Axes>"
      ]
     },
     "metadata": {},
     "output_type": "display_data"
    },
    {
     "name": "stdout",
     "output_type": "stream",
     "text": [
      "Image : bars.png, StartPoint1 : (0, 5), EndPoint1 : (9, 8)\n",
      "Image : bars.png, StartPoint2 : (9, 10), EndPoint2 : (0, 4)\n",
      "Path 1 found from (0, 5) to (9, 8)\n",
      "No path found.\n"
     ]
    },
    {
     "data": {
      "image/png": "[encoded data removed]",
      "text/plain": [
       "<Figure size 640x480 with 1 Axes>"
      ]
     },
     "metadata": {},
     "output_type": "display_data"
    },
    {
     "name": "stdout",
     "output_type": "stream",
     "text": [
      "Image : small-ring.png, StartPoint1 : (4, 3), EndPoint1 : (2, 0)\n",
      "Image : small-ring.png, StartPoint2 : (4, 0), EndPoint2 : (1, 0)\n",
      "Path 1 found from (4, 3) to (2, 0)\n",
      "No path found.\n"
     ]
    },
    {
     "data": {
      "image/png": "[encoded data removed]",
      "text/plain": [
       "<Figure size 640x480 with 1 Axes>"
      ]
     },
     "metadata": {},
     "output_type": "display_data"
    }
   ],
   "source": [
    "fileList = [\"polygons.png\",\"bars.png\",\"small-ring.png\"]\n",
    "for i in range(3):\n",
    "    file = fileList[i]\n",
    "    img = readImage(file)\n",
    "    rows, cols = img.shape\n",
    "    startPoint1 = (random.randint(0, rows-1), random.randint(0, cols-1))\n",
    "    endPoint1 = (random.randint(0, rows-1), random.randint(0, cols-1))\n",
    "    while img[startPoint1] != 0:\n",
    "        startPoint1 = (random.randint(0, rows-1), random.randint(0, cols-1))\n",
    "    while img[endPoint1] != 0:\n",
    "        endPoint1 = (random.randint(0, rows-1), random.randint(0, cols-1))\n",
    "    startPoint2 = (random.randint(0, rows-1), random.randint(0, cols-1))\n",
    "    endPoint2 = (random.randint(0, rows-1), random.randint(0, cols-1))\n",
    "    while img[startPoint2] != 0:\n",
    "        startPoint2 = (random.randint(0, rows-1), random.randint(0, cols-1))\n",
    "    while img[endPoint2] != 0:\n",
    "        endPoint2 = (random.randint(0, rows-1), random.randint(0, cols-1))\n",
    "\n",
    "    \n",
    "    startPoints = [] \n",
    "    startPoints.append(startPoint1)\n",
    "    startPoints.append(startPoint2)\n",
    "    endPoints = []\n",
    "    endPoints.append(endPoint1)\n",
    "    endPoints.append(endPoint2)\n",
    "\n",
    "\n",
    "    print(\"Image : {file}, StartPoint1 : {startPoint1}, EndPoint1 : {endPoint1}\".format(file=file, startPoint1=startPoint1, endPoint1=endPoint1))\n",
    "    print(\"Image : {file}, StartPoint2 : {startPoint2}, EndPoint2 : {endPoint2}\".format(file=file, startPoint2=startPoint2, endPoint2=endPoint2))   \n",
    "    multiPathExists(startPoints,endPoints,file,visualize=True)\n",
    "    "
   ]
  },
  {
   "cell_type": "code",
   "execution_count": null,
   "id": "cac22d59",
   "metadata": {},
   "outputs": [],
   "source": []
  },
  {
   "cell_type": "code",
   "execution_count": null,
   "id": "ed16d1aa",
   "metadata": {},
   "outputs": [],
   "source": []
  }
 ],
 "metadata": {
  "kernelspec": {
   "display_name": "llm",
   "language": "python",
   "name": "python3"
  },
  "language_info": {
   "codemirror_mode": {
    "name": "ipython",
    "version": 3
   },
   "file_extension": ".py",
   "mimetype": "text/x-python",
   "name": "python",
   "nbconvert_exporter": "python",
   "pygments_lexer": "ipython3",
   "version": "3.12.3"
  }
 },
 "nbformat": 4,
 "nbformat_minor": 5
}
